{
  "nbformat": 4,
  "nbformat_minor": 0,
  "metadata": {
    "colab": {
      "provenance": []
    },
    "kernelspec": {
      "name": "python3",
      "display_name": "Python 3"
    },
    "language_info": {
      "name": "python"
    }
  },
  "cells": [
    {
      "cell_type": "markdown",
      "source": [
        "### Numpy"
      ],
      "metadata": {
        "id": "LBodDPNnFtLh"
      }
    },
    {
      "cell_type": "markdown",
      "source": [
        "NumPy is a Python library for numerical computing. it introduce a simple yet powerful data structure: the multi-dimensional arrays. and provide a collection of mathematical functions with high efficiency\n",
        "(the algorithms are implemented in C and complete in nanoseconds rather than seconds)"
      ],
      "metadata": {
        "id": "9MNaQuiBFNqb"
      }
    },
    {
      "cell_type": "code",
      "source": [
        "import numpy as np"
      ],
      "metadata": {
        "id": "Qc_DnCMEIucQ"
      },
      "execution_count": null,
      "outputs": []
    },
    {
      "cell_type": "markdown",
      "source": [
        "### lists vs. ndarrays"
      ],
      "metadata": {
        "id": "ESHA-k2OMt0z"
      }
    },
    {
      "cell_type": "markdown",
      "source": [
        "<h4> 1. Time"
      ],
      "metadata": {
        "id": "a9z2wMyzMbnM"
      }
    },
    {
      "cell_type": "code",
      "source": [
        "import time\n",
        "\n",
        "start = time.time()\n",
        "for i in range(5):\n",
        "  print(i)\n",
        "  time.sleep(1)\n",
        "print('Execution time: ',time.time()-start)"
      ],
      "metadata": {
        "colab": {
          "base_uri": "https://localhost:8080/"
        },
        "id": "HGfGABdLHzpO",
        "outputId": "17e17808-061d-49d2-b7e3-ee727d562f7c"
      },
      "execution_count": null,
      "outputs": [
        {
          "output_type": "stream",
          "name": "stdout",
          "text": [
            "0\n",
            "1\n",
            "2\n",
            "3\n",
            "4\n",
            "Execution time:  5.006363868713379\n"
          ]
        }
      ]
    },
    {
      "cell_type": "markdown",
      "source": [
        "<h3> Q. How much time will it take to multiply 2 lists of length 1000?"
      ],
      "metadata": {
        "id": "8LbFkpe3Imbn"
      }
    },
    {
      "cell_type": "code",
      "source": [
        "import timeit\n",
        "\n",
        "def mul_lists(a,b):\n",
        "  c = []\n",
        "  for i in range(len(a)):\n",
        "      c.append(a[i]*b[i])\n",
        "  return c"
      ],
      "metadata": {
        "id": "SQhz9SfEM0rz"
      },
      "execution_count": null,
      "outputs": []
    },
    {
      "cell_type": "code",
      "source": [
        "a = list(range(1000))\n",
        "b = list(range(1000))\n",
        "\n",
        "execution_time = timeit.timeit(\"mul_lists(a, b)\",\n",
        "                               setup=\"from __main__ import mul_lists, a, b\",\n",
        "                               number=1000)\n",
        "execution_time"
      ],
      "metadata": {
        "id": "cWlWyMOZO5Vv",
        "colab": {
          "base_uri": "https://localhost:8080/"
        },
        "outputId": "b7fef023-acd7-4e4e-d9f4-0b9e57f6b300"
      },
      "execution_count": null,
      "outputs": [
        {
          "output_type": "execute_result",
          "data": {
            "text/plain": [
              "0.14676442400013912"
            ]
          },
          "metadata": {},
          "execution_count": 5
        }
      ]
    },
    {
      "cell_type": "code",
      "source": [
        "import numpy as np\n",
        "a_arr = np.array(a)\n",
        "b_arr = np.array(b)\n",
        "\n",
        "code_to_test = \"c = a_arr * b_arr\"\n",
        "\n",
        "# Time the NumPy array multiplication\n",
        "execution_time = timeit.timeit(code_to_test, setup=\"from __main__ import a_arr, b_arr\", number=1000)\n",
        "execution_time\n"
      ],
      "metadata": {
        "id": "KyroeYGOPGsq",
        "colab": {
          "base_uri": "https://localhost:8080/"
        },
        "outputId": "50d6542f-bd86-48be-f319-1a4e75cab3a6"
      },
      "execution_count": null,
      "outputs": [
        {
          "output_type": "execute_result",
          "data": {
            "text/plain": [
              "0.012790245999894978"
            ]
          },
          "metadata": {},
          "execution_count": 6
        }
      ]
    },
    {
      "cell_type": "markdown",
      "source": [
        "<h4> 2. Space"
      ],
      "metadata": {
        "id": "zPhOh97JVv2a"
      }
    },
    {
      "cell_type": "code",
      "source": [
        "import numpy as np\n",
        "import sys\n",
        "\n",
        "# declaring a list of 1000 elements\n",
        "S= range(1000) # change to lst!!!\n",
        "\n",
        "print(\"List: size of element (in bytes): \",sys.getsizeof(S))\n",
        "print(\"Size of the whole list in bytes: \",sys.getsizeof(S)*len(S))\n",
        "\n",
        "# declaring a Numpy array of 1000 elements\n",
        "D= np.arange(1000)\n",
        "\n",
        "print(\"Numpy array: size of each element (in bytes): \",D.itemsize)\n",
        "print(\"Size of the whole Numpy array in bytes: \",D.size*D.itemsize)\n"
      ],
      "metadata": {
        "colab": {
          "base_uri": "https://localhost:8080/"
        },
        "id": "LT2ia8vYWPW2",
        "outputId": "8a66d3da-feb0-483d-d790-69962ff591bc"
      },
      "execution_count": null,
      "outputs": [
        {
          "output_type": "stream",
          "name": "stdout",
          "text": [
            "Size of each element of list in bytes:  48\n",
            "Size of the whole list in bytes:  48000\n",
            "Size of each element of the Numpy array in bytes:  8\n",
            "Size of the whole Numpy array in bytes:  8000\n"
          ]
        }
      ]
    },
    {
      "cell_type": "markdown",
      "source": [
        "numpy deals with n-dim array, which other packages do you know that do that? pytorch & TF - we will see the relationship between them.\n",
        "\n",
        "Why do we need numpy? why not work with lists of n-dim?\n",
        "- time\n",
        "-arrangment in memory\n",
        "- no object wrapping around, save lots of space\n",
        "-kind of regression to C: single datatype, sits in a contingous space in memory --> saves time, eccelerate performance + good optimization package\n",
        " - Python scientific package Support lots of implementation\n",
        " and lots of other packages are based on numpy (eg pandas which will see next)"
      ],
      "metadata": {
        "id": "rIkG3s7IATHr"
      }
    },
    {
      "cell_type": "markdown",
      "source": [
        "### Getting started: Create a numpy array"
      ],
      "metadata": {
        "id": "cXwGrztSGN2m"
      }
    },
    {
      "cell_type": "markdown",
      "source": [
        "####  1D example"
      ],
      "metadata": {
        "id": "S99Nu1Y2SWke"
      }
    },
    {
      "cell_type": "markdown",
      "source": [
        "<h4> 1. Convert other Python structures (lists) to arrys"
      ],
      "metadata": {
        "id": "qflrf9HyM78z"
      }
    },
    {
      "cell_type": "code",
      "source": [
        "grades = np.array([72, 35, 64, 88, 51, 90, 74, 12])\n",
        "print(grades.dtype)\n",
        "grades = np.array([72, 35, 64, 88, 51, 90, 74, 12.0])\n",
        "print(grades.dtype)"
      ],
      "metadata": {
        "colab": {
          "base_uri": "https://localhost:8080/"
        },
        "id": "Ez0sUPtjw6B2",
        "outputId": "e88e28c5-fa6b-4802-81ac-b22266515d27"
      },
      "execution_count": null,
      "outputs": [
        {
          "output_type": "stream",
          "name": "stdout",
          "text": [
            "int64\n",
            "float64\n"
          ]
        }
      ]
    },
    {
      "cell_type": "code",
      "execution_count": null,
      "metadata": {
        "id": "eLjpiqK-FJFk"
      },
      "outputs": [],
      "source": [
        "grades = np.array([72, 35, 64, 88, 51, 90, 74, 12], dtype=np.uint32)"
      ]
    },
    {
      "cell_type": "markdown",
      "source": [
        "Default datatypes: int64, float64 according to data\n",
        "a = np.array([1, 2, 3])\n",
        "b = np.array([1., 2., 3.])\n",
        "you can check by printing b.dtype\n"
      ],
      "metadata": {
        "id": "wMYHKw6AB8YA"
      }
    },
    {
      "cell_type": "markdown",
      "source": [
        "(*) if you don't define dtype, it will be determined by the type of the input data. If the input data consists of integers, NumPy will use int64 on a 64-bit system (or int32 on a 32-bit system) by default. If the input contains floating-point numbers, it will default to float64."
      ],
      "metadata": {
        "id": "pjR17ysGcoT9"
      }
    },
    {
      "cell_type": "code",
      "source": [
        "# Custing\n",
        "grades2 = grades.astype(int)\n",
        "print(grades.dtype)\n",
        "print(grades2.dtype)"
      ],
      "metadata": {
        "colab": {
          "base_uri": "https://localhost:8080/"
        },
        "id": "wBplzSU9Ktr3",
        "outputId": "3a07b0eb-61e3-49be-d032-588f5102cd89"
      },
      "execution_count": null,
      "outputs": [
        {
          "output_type": "stream",
          "name": "stdout",
          "text": [
            "uint32\n",
            "int64\n"
          ]
        }
      ]
    },
    {
      "cell_type": "markdown",
      "source": [
        "Data types size:\n",
        "\n",
        "- uint8, 8 bits\n",
        "- uint16, 16 bits\n",
        "- uint32, 32 bits\n",
        "- uint64, 64 bits\n",
        "\n",
        "- float16, 16 bits\n",
        "- float32, 32 bits\n",
        "- float64, 64 bits\n",
        "- float96, 96 bits\n",
        "- float128, 128 bits"
      ],
      "metadata": {
        "id": "9wz7HfOyLV4a"
      }
    },
    {
      "cell_type": "code",
      "source": [
        "#check array shape\n",
        "grades.shape"
      ],
      "metadata": {
        "colab": {
          "base_uri": "https://localhost:8080/"
        },
        "id": "3O09MsxzGUEw",
        "outputId": "2f270a4c-cbcc-4628-d248-c79c66f9baf7"
      },
      "execution_count": null,
      "outputs": [
        {
          "output_type": "execute_result",
          "data": {
            "text/plain": [
              "(8,)"
            ]
          },
          "metadata": {},
          "execution_count": 21
        }
      ]
    },
    {
      "cell_type": "markdown",
      "source": [
        "2. Use NumPy array creation functions (e.g. arange, ones, zeros)"
      ],
      "metadata": {
        "id": "chDv8FNwNBCS"
      }
    },
    {
      "cell_type": "code",
      "source": [
        "five_zeros = np.zeros(5)\n",
        "five_zeros"
      ],
      "metadata": {
        "colab": {
          "base_uri": "https://localhost:8080/"
        },
        "id": "oR-Tztb9NvoS",
        "outputId": "d46083cf-afe4-404a-d140-418c21726c9b"
      },
      "execution_count": null,
      "outputs": [
        {
          "output_type": "execute_result",
          "data": {
            "text/plain": [
              "array([0., 0., 0., 0., 0.])"
            ]
          },
          "metadata": {},
          "execution_count": 43
        }
      ]
    },
    {
      "cell_type": "code",
      "source": [
        "six_ones = np.ones(6,dtype=int)"
      ],
      "metadata": {
        "id": "0oWBU_4Fc4PR"
      },
      "execution_count": null,
      "outputs": []
    },
    {
      "cell_type": "code",
      "source": [
        "two_to_nine = np.arange(2, 10, 0.1, dtype=float)\n",
        "type(two_to_nine)\n",
        "two_to_nine"
      ],
      "metadata": {
        "colab": {
          "base_uri": "https://localhost:8080/"
        },
        "id": "6lhrehsWNIbz",
        "outputId": "95deef4e-c231-4e18-8fb4-9d0b92b0743b"
      },
      "execution_count": null,
      "outputs": [
        {
          "output_type": "execute_result",
          "data": {
            "text/plain": [
              "array([2. , 2.1, 2.2, 2.3, 2.4, 2.5, 2.6, 2.7, 2.8, 2.9, 3. , 3.1, 3.2,\n",
              "       3.3, 3.4, 3.5, 3.6, 3.7, 3.8, 3.9, 4. , 4.1, 4.2, 4.3, 4.4, 4.5,\n",
              "       4.6, 4.7, 4.8, 4.9, 5. , 5.1, 5.2, 5.3, 5.4, 5.5, 5.6, 5.7, 5.8,\n",
              "       5.9, 6. , 6.1, 6.2, 6.3, 6.4, 6.5, 6.6, 6.7, 6.8, 6.9, 7. , 7.1,\n",
              "       7.2, 7.3, 7.4, 7.5, 7.6, 7.7, 7.8, 7.9, 8. , 8.1, 8.2, 8.3, 8.4,\n",
              "       8.5, 8.6, 8.7, 8.8, 8.9, 9. , 9.1, 9.2, 9.3, 9.4, 9.5, 9.6, 9.7,\n",
              "       9.8, 9.9])"
            ]
          },
          "metadata": {},
          "execution_count": 37
        }
      ]
    },
    {
      "cell_type": "markdown",
      "source": [
        "3. read data from file"
      ],
      "metadata": {
        "id": "sbWo3gV1RA7q"
      }
    },
    {
      "cell_type": "code",
      "source": [
        "loaded_data = np.load('neural_activity_data.npy')"
      ],
      "metadata": {
        "id": "2qs-NvnuRBLr"
      },
      "execution_count": null,
      "outputs": []
    },
    {
      "cell_type": "code",
      "source": [
        "loaded_data.shape"
      ],
      "metadata": {
        "colab": {
          "base_uri": "https://localhost:8080/"
        },
        "id": "gzAy_KURRWSa",
        "outputId": "3ca9493a-8c6c-4818-b7ec-38bd20a37dd4"
      },
      "execution_count": null,
      "outputs": [
        {
          "output_type": "execute_result",
          "data": {
            "text/plain": [
              "(100, 1000)"
            ]
          },
          "metadata": {},
          "execution_count": 8
        }
      ]
    },
    {
      "cell_type": "markdown",
      "source": [
        "Slicing arrays:"
      ],
      "metadata": {
        "id": "NztSNELwDCoC"
      }
    },
    {
      "cell_type": "code",
      "source": [
        "a = np.arange(12)\n",
        "a[:4]"
      ],
      "metadata": {
        "colab": {
          "base_uri": "https://localhost:8080/"
        },
        "id": "3_uCrcdqC7wS",
        "outputId": "060bc80a-36f7-417b-de6e-19ba0627c569"
      },
      "execution_count": 11,
      "outputs": [
        {
          "output_type": "execute_result",
          "data": {
            "text/plain": [
              "array([0, 1, 2, 3])"
            ]
          },
          "metadata": {},
          "execution_count": 11
        }
      ]
    },
    {
      "cell_type": "markdown",
      "source": [
        "#### Basic operations:"
      ],
      "metadata": {
        "id": "fnk3gLeZEdWe"
      }
    },
    {
      "cell_type": "code",
      "source": [
        "# Arithmetics\n",
        "c= np.ones(3)\n",
        "print(c+c)\n",
        "print(c+2)\n",
        "print(c*c)"
      ],
      "metadata": {
        "id": "Ittn3IfKEpEh",
        "colab": {
          "base_uri": "https://localhost:8080/"
        },
        "outputId": "110cbf4b-8dc8-4610-f944-3ba6dd292be7"
      },
      "execution_count": 13,
      "outputs": [
        {
          "output_type": "stream",
          "name": "stdout",
          "text": [
            "[2. 2. 2.]\n",
            "[3. 3. 3.]\n",
            "[1. 1. 1.]\n"
          ]
        }
      ]
    },
    {
      "cell_type": "code",
      "source": [
        "print(c,c)\n",
        "c.dot(c)"
      ],
      "metadata": {
        "id": "pUjcDyuOEo4Q",
        "colab": {
          "base_uri": "https://localhost:8080/"
        },
        "outputId": "f2500f59-0894-4022-cc55-1912ab0f527f"
      },
      "execution_count": 19,
      "outputs": [
        {
          "output_type": "stream",
          "name": "stdout",
          "text": [
            "[1. 1. 1.] [1. 1. 1.]\n"
          ]
        },
        {
          "output_type": "execute_result",
          "data": {
            "text/plain": [
              "3.0"
            ]
          },
          "metadata": {},
          "execution_count": 19
        }
      ]
    },
    {
      "cell_type": "code",
      "source": [
        "c+2"
      ],
      "metadata": {
        "colab": {
          "base_uri": "https://localhost:8080/"
        },
        "id": "jK_bQofvFWkZ",
        "outputId": "5e443d89-af9d-4f2d-e0d7-8e5542fed096"
      },
      "execution_count": null,
      "outputs": [
        {
          "output_type": "execute_result",
          "data": {
            "text/plain": [
              "array([3., 3., 3.])"
            ]
          },
          "metadata": {},
          "execution_count": 12
        }
      ]
    },
    {
      "cell_type": "code",
      "source": [
        "# Comparisons:\n",
        "a = np.array([1, 2, 3, 4])\n",
        "b = np.array([4, 2, 2, 4])\n",
        "a == b\n"
      ],
      "metadata": {
        "id": "X8OlKSAsFuPg",
        "colab": {
          "base_uri": "https://localhost:8080/"
        },
        "outputId": "0bdf758c-2ef2-4cbd-df0f-533bad434d0d"
      },
      "execution_count": 20,
      "outputs": [
        {
          "output_type": "execute_result",
          "data": {
            "text/plain": [
              "array([False,  True, False,  True])"
            ]
          },
          "metadata": {},
          "execution_count": 20
        }
      ]
    },
    {
      "cell_type": "code",
      "source": [
        "# Logical operations:\n",
        "a = np.array([1, 1, 0, 0], dtype=bool)\n",
        "b = np.array([1, 0, 1, 0], dtype=bool)\n",
        "np.logical_or(a, b)\n"
      ],
      "metadata": {
        "id": "Bc1N9pTUF2zg",
        "colab": {
          "base_uri": "https://localhost:8080/"
        },
        "outputId": "3fa71433-8068-460b-86ed-ad5284a8c5aa"
      },
      "execution_count": 21,
      "outputs": [
        {
          "output_type": "execute_result",
          "data": {
            "text/plain": [
              "array([ True,  True,  True, False])"
            ]
          },
          "metadata": {},
          "execution_count": 21
        }
      ]
    },
    {
      "cell_type": "code",
      "source": [
        "a = np.array([1,2,3,4,5,])\n",
        "b = np.array([2,3,4,5,6])\n",
        "c = np.where(a>2)\n",
        "c\n",
        "c = a>2\n",
        "c\n",
        "d = b>2\n",
        "d\n",
        "a[np.logical_and(c,d)]"
      ],
      "metadata": {
        "colab": {
          "base_uri": "https://localhost:8080/"
        },
        "id": "BnOmAMPnyOXI",
        "outputId": "fddfabf8-e2ce-4107-b53c-9982cccc0090"
      },
      "execution_count": 31,
      "outputs": [
        {
          "output_type": "execute_result",
          "data": {
            "text/plain": [
              "array([3, 4, 5])"
            ]
          },
          "metadata": {},
          "execution_count": 31
        }
      ]
    },
    {
      "cell_type": "code",
      "source": [
        "#Numerical operations\n",
        "a = np.arange(5)\n",
        "print(np.sin(a))\n",
        "print(np.log(a))\n",
        "print(np.exp(a))"
      ],
      "metadata": {
        "id": "nYXakHttGIx_",
        "outputId": "3612f706-b204-4eb6-b196-1fa1d8df3722",
        "colab": {
          "base_uri": "https://localhost:8080/"
        }
      },
      "execution_count": 43,
      "outputs": [
        {
          "output_type": "stream",
          "name": "stdout",
          "text": [
            "[ 0.          0.84147098  0.90929743  0.14112001 -0.7568025 ]\n",
            "[      -inf 0.         0.69314718 1.09861229 1.38629436]\n",
            "[ 1.          2.71828183  7.3890561  20.08553692 54.59815003]\n"
          ]
        },
        {
          "output_type": "stream",
          "name": "stderr",
          "text": [
            "<ipython-input-43-1c31c3adb58b>:4: RuntimeWarning: divide by zero encountered in log\n",
            "  print(np.log(a))\n"
          ]
        }
      ]
    },
    {
      "cell_type": "code",
      "source": [
        "# Statistics:\n",
        "a = np.array([1, 2, 3, 1])\n",
        "print(a.mean())\n",
        "print(a.std())\n",
        "print(np.median(a))"
      ],
      "metadata": {
        "id": "uPVAtYfEG1KI",
        "outputId": "c34b5767-38f9-406a-f1ff-fcee530b5ee7",
        "colab": {
          "base_uri": "https://localhost:8080/"
        }
      },
      "execution_count": 44,
      "outputs": [
        {
          "output_type": "stream",
          "name": "stdout",
          "text": [
            "1.75\n",
            "0.82915619758885\n",
            "1.5\n"
          ]
        }
      ]
    },
    {
      "cell_type": "markdown",
      "source": [
        "#### Cool arithmetic operations"
      ],
      "metadata": {
        "id": "eyUHXG9NSp9X"
      }
    },
    {
      "cell_type": "markdown",
      "source": [
        "**Vectorization** is the process of performing the same operation in the same way for each element in an array. This removes for loops from your code but achieves the same result.\n",
        "\n",
        "**Broadcasting** is the process of extending two arrays of different shapes and figuring out how to perform a vectorized calculation between them.\n",
        "\n",
        "For example:"
      ],
      "metadata": {
        "id": "FdL_7uPOJjQP"
      }
    },
    {
      "cell_type": "markdown",
      "source": [
        "**Broadcasting**: Grades is an array of numbers (shape-(8,)), and factor is a scalar. NumPy adds the scalar to each item in the array and returns a new array with the results."
      ],
      "metadata": {
        "id": "f1ZodG-5asSk"
      }
    },
    {
      "cell_type": "code",
      "execution_count": null,
      "metadata": {
        "id": "YNbmM1DNQyY1"
      },
      "outputs": [],
      "source": [
        "grades = np.array([72, 35, 64, 88, 51, 90, 74, 12], dtype=np.uint32)"
      ]
    },
    {
      "cell_type": "code",
      "source": [
        "grades.shape"
      ],
      "metadata": {
        "colab": {
          "base_uri": "https://localhost:8080/"
        },
        "outputId": "e2ab98ac-87a8-4589-9e28-0abf1321f5ba",
        "id": "HKCuzyERQyY_"
      },
      "execution_count": null,
      "outputs": [
        {
          "output_type": "execute_result",
          "data": {
            "text/plain": [
              "(8,)"
            ]
          },
          "metadata": {},
          "execution_count": 4
        }
      ]
    },
    {
      "cell_type": "code",
      "source": [
        "factor = 5"
      ],
      "metadata": {
        "id": "hAjKdMCLbFdE"
      },
      "execution_count": null,
      "outputs": []
    },
    {
      "cell_type": "code",
      "source": [
        "corrected_grades = grades*1.2 + factor\n",
        "corrected_grades"
      ],
      "metadata": {
        "colab": {
          "base_uri": "https://localhost:8080/"
        },
        "outputId": "5c206bf4-edd1-488f-db31-d96db482929c",
        "id": "co4ToetIQyY_"
      },
      "execution_count": null,
      "outputs": [
        {
          "output_type": "execute_result",
          "data": {
            "text/plain": [
              "array([ 91.4,  47. ,  81.8, 110.6,  66.2, 113. ,  93.8,  19.4])"
            ]
          },
          "metadata": {},
          "execution_count": 6
        }
      ]
    },
    {
      "cell_type": "markdown",
      "source": [
        "113 is not a valid grade.. we can make sure values are in range using clip (limit the values to defined minimum and maximum)"
      ],
      "metadata": {
        "id": "_5KKWptvbjK4"
      }
    },
    {
      "cell_type": "code",
      "source": [
        "np.clip(corrected_grades, a_min=0 ,a_max=100)"
      ],
      "metadata": {
        "colab": {
          "base_uri": "https://localhost:8080/"
        },
        "id": "IlMaJkfcJl02",
        "outputId": "cbeb272f-5140-4df4-88f4-c8fefccce864"
      },
      "execution_count": null,
      "outputs": [
        {
          "output_type": "execute_result",
          "data": {
            "text/plain": [
              "array([ 91.4,  47. ,  81.8, 100. ,  66.2, 100. ,  93.8,  19.4])"
            ]
          },
          "metadata": {},
          "execution_count": 7
        }
      ]
    },
    {
      "cell_type": "markdown",
      "source": [
        "**Vectorization**: do the same, use and array of factor of the same size instead of Broadcasting a sclar"
      ],
      "metadata": {
        "id": "kAhe3dPIe3w2"
      }
    },
    {
      "cell_type": "code",
      "source": [
        "np.clip(grades*1.2 + factor*np.ones(len(grades)), a_min=0, a_max=100)"
      ],
      "metadata": {
        "colab": {
          "base_uri": "https://localhost:8080/"
        },
        "id": "0uxmVxg8MVP3",
        "outputId": "ed6d3d5b-88dc-4bf0-ff52-fcdc5f4115c9"
      },
      "execution_count": null,
      "outputs": [
        {
          "output_type": "execute_result",
          "data": {
            "text/plain": [
              "array([ 91.4,  47. ,  81.8, 100. ,  66.2, 100. ,  93.8,  19.4])"
            ]
          },
          "metadata": {},
          "execution_count": 17
        }
      ]
    },
    {
      "cell_type": "markdown",
      "source": [
        "### 2D and up (Matrices & tensors)"
      ],
      "metadata": {
        "id": "WNj6sV1_MgIt"
      }
    },
    {
      "cell_type": "markdown",
      "source": [
        "Initialization"
      ],
      "metadata": {
        "id": "NArXm8fa1cKk"
      }
    },
    {
      "cell_type": "code",
      "source": [
        "a = np.zeros((2,3))\n",
        "b = np.ones((4,5))\n",
        "print(a.shape)\n",
        "print(b.shape)"
      ],
      "metadata": {
        "colab": {
          "base_uri": "https://localhost:8080/"
        },
        "id": "HhpA9JLi1eLv",
        "outputId": "700f4165-3765-45dc-9692-10c69028e31d"
      },
      "execution_count": null,
      "outputs": [
        {
          "output_type": "stream",
          "name": "stdout",
          "text": [
            "(2, 3)\n",
            "(4, 5)\n"
          ]
        }
      ]
    },
    {
      "cell_type": "markdown",
      "source": [
        "More operations:"
      ],
      "metadata": {
        "id": "h1GyTFgBgQAM"
      }
    },
    {
      "cell_type": "code",
      "source": [
        "a = np.array([[1, 2], [3, 4]])\n",
        "b = np.array([[5, 6], [7, 8]])\n",
        "c = a @ b\n",
        "c"
      ],
      "metadata": {
        "id": "mT-Ej65tf3Ao",
        "colab": {
          "base_uri": "https://localhost:8080/"
        },
        "outputId": "7e65debf-bf17-4301-9bdf-4f227f8092ba"
      },
      "execution_count": null,
      "outputs": [
        {
          "output_type": "execute_result",
          "data": {
            "text/plain": [
              "array([[19, 22],\n",
              "       [43, 50]])"
            ]
          },
          "metadata": {},
          "execution_count": 18
        }
      ]
    },
    {
      "cell_type": "code",
      "source": [
        "mat = np.array([[1,2,3,4],[5,6,7,8],[9,10,11,12]])\n",
        "mat.shape"
      ],
      "metadata": {
        "colab": {
          "base_uri": "https://localhost:8080/"
        },
        "id": "P6KT1VujNVfL",
        "outputId": "14af708e-f438-47f5-89e3-3f9b143919c5"
      },
      "execution_count": null,
      "outputs": [
        {
          "output_type": "execute_result",
          "data": {
            "text/plain": [
              "(3, 4)"
            ]
          },
          "metadata": {},
          "execution_count": 19
        }
      ]
    },
    {
      "cell_type": "markdown",
      "source": [
        "Shape manipulation:"
      ],
      "metadata": {
        "id": "OuKNiIXQHcCP"
      }
    },
    {
      "cell_type": "code",
      "source": [
        "mat.reshape(2,6)"
      ],
      "metadata": {
        "colab": {
          "base_uri": "https://localhost:8080/"
        },
        "id": "YMTRvKACNnoK",
        "outputId": "6e0ddf9f-1e32-435b-c103-5d696fc196d8"
      },
      "execution_count": null,
      "outputs": [
        {
          "output_type": "execute_result",
          "data": {
            "text/plain": [
              "array([[ 1,  2,  3,  4,  5,  6],\n",
              "       [ 7,  8,  9, 10, 11, 12]])"
            ]
          },
          "metadata": {},
          "execution_count": 20
        }
      ]
    },
    {
      "cell_type": "code",
      "source": [
        "mat.flatten() # returns a copy"
      ],
      "metadata": {
        "colab": {
          "base_uri": "https://localhost:8080/"
        },
        "id": "N-o61_ecFROz",
        "outputId": "5df9cb62-271b-4613-d8a1-cc53effb9c5d"
      },
      "execution_count": null,
      "outputs": [
        {
          "output_type": "execute_result",
          "data": {
            "text/plain": [
              "array([ 1,  2,  3,  4,  5,  6,  7,  8,  9, 10, 11, 12])"
            ]
          },
          "metadata": {},
          "execution_count": 21
        }
      ]
    },
    {
      "cell_type": "code",
      "source": [
        "mat.ravel() # returns a view"
      ],
      "metadata": {
        "colab": {
          "base_uri": "https://localhost:8080/"
        },
        "id": "lma5SoaSHpQn",
        "outputId": "2bd7add1-ac7c-4739-ae23-3e4b05ebbf0e"
      },
      "execution_count": null,
      "outputs": [
        {
          "output_type": "execute_result",
          "data": {
            "text/plain": [
              "array([ 1,  2,  3,  4,  5,  6,  7,  8,  9, 10, 11, 12])"
            ]
          },
          "metadata": {},
          "execution_count": 22
        }
      ]
    },
    {
      "cell_type": "code",
      "source": [
        "mat.T"
      ],
      "metadata": {
        "colab": {
          "base_uri": "https://localhost:8080/"
        },
        "id": "-bzLdYH-HtGo",
        "outputId": "adb0dd7c-3314-48e7-aa1a-b59d26423ce4"
      },
      "execution_count": null,
      "outputs": [
        {
          "output_type": "execute_result",
          "data": {
            "text/plain": [
              "array([[ 1,  5,  9],\n",
              "       [ 2,  6, 10],\n",
              "       [ 3,  7, 11],\n",
              "       [ 4,  8, 12]])"
            ]
          },
          "metadata": {},
          "execution_count": 23
        }
      ]
    },
    {
      "cell_type": "code",
      "source": [
        "print(mat.max())\n",
        "print(mat.max(axis=0))\n",
        "print(mat.max(axis=1))"
      ],
      "metadata": {
        "colab": {
          "base_uri": "https://localhost:8080/"
        },
        "id": "ygFOf0KBOLJ8",
        "outputId": "b4f9363b-4de9-4148-b3f2-c168c062f285"
      },
      "execution_count": null,
      "outputs": [
        {
          "output_type": "stream",
          "name": "stdout",
          "text": [
            "12\n",
            "[ 9 10 11 12]\n",
            "[ 4  8 12]\n"
          ]
        }
      ]
    },
    {
      "cell_type": "code",
      "source": [
        "mat"
      ],
      "metadata": {
        "colab": {
          "base_uri": "https://localhost:8080/"
        },
        "id": "63_9GYpNPBna",
        "outputId": "4b802064-2521-4b56-d597-bdbe9966f809"
      },
      "execution_count": null,
      "outputs": [
        {
          "output_type": "execute_result",
          "data": {
            "text/plain": [
              "array([[ 1,  2,  3,  4],\n",
              "       [ 5,  6,  7,  8],\n",
              "       [ 9, 10, 11, 12]])"
            ]
          },
          "metadata": {},
          "execution_count": 8
        }
      ]
    },
    {
      "cell_type": "markdown",
      "source": [
        "Slicing 2D arrays:\n"
      ],
      "metadata": {
        "id": "Mcel8SZ4CiO_"
      }
    },
    {
      "cell_type": "code",
      "source": [
        "\n",
        "mat[2,:]"
      ],
      "metadata": {
        "colab": {
          "base_uri": "https://localhost:8080/"
        },
        "id": "kfCRADT3O4JT",
        "outputId": "dd25461b-da1e-4b9e-ccc9-6a829eb3ae29"
      },
      "execution_count": null,
      "outputs": [
        {
          "output_type": "execute_result",
          "data": {
            "text/plain": [
              "array([ 9, 10, 11, 12])"
            ]
          },
          "metadata": {},
          "execution_count": 9
        }
      ]
    },
    {
      "cell_type": "code",
      "source": [
        "mat[:,2]"
      ],
      "metadata": {
        "colab": {
          "base_uri": "https://localhost:8080/"
        },
        "id": "op86PPnOPGU4",
        "outputId": "e4b3717a-7ba6-474a-fc0c-5a95b06a0563"
      },
      "execution_count": null,
      "outputs": [
        {
          "output_type": "execute_result",
          "data": {
            "text/plain": [
              "array([ 3,  7, 11])"
            ]
          },
          "metadata": {},
          "execution_count": 28
        }
      ]
    },
    {
      "cell_type": "markdown",
      "source": [
        "### Simulations: create arrays with random values"
      ],
      "metadata": {
        "id": "6zYiV1WmS6oe"
      }
    },
    {
      "cell_type": "markdown",
      "source": [
        "When is it useful?"
      ],
      "metadata": {
        "id": "5Z9r0N0PTBAP"
      }
    },
    {
      "cell_type": "markdown",
      "source": [
        "1.  Use python for random experiments: create random data"
      ],
      "metadata": {
        "id": "xAnybn-iWdeH"
      }
    },
    {
      "cell_type": "code",
      "source": [
        "rand_mat = np.random.rand(30, 40)"
      ],
      "metadata": {
        "id": "5uWgG8iyWjje"
      },
      "execution_count": null,
      "outputs": []
    },
    {
      "cell_type": "code",
      "source": [
        "rand_mat.shape"
      ],
      "metadata": {
        "colab": {
          "base_uri": "https://localhost:8080/"
        },
        "id": "cBQEcCUKdBsP",
        "outputId": "81f91ea4-c18b-49d1-f222-fabeef5808c9"
      },
      "execution_count": null,
      "outputs": [
        {
          "output_type": "execute_result",
          "data": {
            "text/plain": [
              "(30, 40)"
            ]
          },
          "metadata": {},
          "execution_count": 23
        }
      ]
    },
    {
      "cell_type": "code",
      "source": [
        "np.mean(rand_mat)"
      ],
      "metadata": {
        "colab": {
          "base_uri": "https://localhost:8080/"
        },
        "id": "tZ09hRLzTPCl",
        "outputId": "9e85f639-0ea5-43f0-8855-3e9d2dddf71f"
      },
      "execution_count": null,
      "outputs": [
        {
          "output_type": "execute_result",
          "data": {
            "text/plain": [
              "0.48612280398057994"
            ]
          },
          "metadata": {},
          "execution_count": 24
        }
      ]
    },
    {
      "cell_type": "markdown",
      "source": [
        "Super helpful: every matrix can be plotted\n",
        "\n",
        "Remember 'Picture' is nothing but an alias to a 3D matrix.."
      ],
      "metadata": {
        "id": "r_m8BJ_cYJB0"
      }
    },
    {
      "cell_type": "code",
      "source": [
        "import matplotlib.pyplot as plt\n",
        "plt.imshow(rand_mat, cmap=plt.cm.hot)\n",
        "plt.show()"
      ],
      "metadata": {
        "id": "b0TYiSJRYNyI",
        "colab": {
          "base_uri": "https://localhost:8080/",
          "height": 430
        },
        "outputId": "57612b99-e67e-4625-ec6f-0d0313cec408"
      },
      "execution_count": null,
      "outputs": [
        {
          "output_type": "display_data",
          "data": {
            "text/plain": [
              "<Figure size 640x480 with 1 Axes>"
            ],
            "image/png": "[encoded data removed]"
          },
          "metadata": {}
        }
      ]
    },
    {
      "cell_type": "code",
      "source": [
        "rand_mat = np.random.randn(30, 30)\n",
        "plt.imshow(rand_mat, cmap=plt.cm.hot)\n",
        "plt.show()"
      ],
      "metadata": {
        "id": "_HEquwZR3bR4",
        "colab": {
          "base_uri": "https://localhost:8080/",
          "height": 430
        },
        "outputId": "03a92c51-386c-4854-e479-c953028c1ba8"
      },
      "execution_count": null,
      "outputs": [
        {
          "output_type": "display_data",
          "data": {
            "text/plain": [
              "<Figure size 640x480 with 1 Axes>"
            ],
            "image/png": "[encoded data removed]"
          },
          "metadata": {}
        }
      ]
    },
    {
      "cell_type": "markdown",
      "source": [
        "2. Add random noise"
      ],
      "metadata": {
        "id": "o08nnzKaWj4v"
      }
    },
    {
      "cell_type": "code",
      "source": [
        "x = np.arange(0, 1, 0.01)\n",
        "signal = np.sin(2 * np.pi * 2 * x)\n",
        "x_len = signal.shape[0]\n",
        "noise = np.random.randn(x_len)"
      ],
      "metadata": {
        "id": "irU-eyT4WaYB"
      },
      "execution_count": null,
      "outputs": []
    },
    {
      "cell_type": "code",
      "source": [
        "noise.shape"
      ],
      "metadata": {
        "colab": {
          "base_uri": "https://localhost:8080/"
        },
        "id": "ISSUmntYXjFw",
        "outputId": "5125edf0-c358-4a35-e344-70caf20f5f15"
      },
      "execution_count": null,
      "outputs": [
        {
          "output_type": "execute_result",
          "data": {
            "text/plain": [
              "(100,)"
            ]
          },
          "metadata": {},
          "execution_count": 14
        }
      ]
    },
    {
      "cell_type": "code",
      "source": [
        "import matplotlib.pyplot as plt\n",
        "plt.plot(signal)"
      ],
      "metadata": {
        "colab": {
          "base_uri": "https://localhost:8080/",
          "height": 448
        },
        "id": "feyg9ywGW9aU",
        "outputId": "4edbad4a-34c2-4341-9c5b-3b70950eefd5"
      },
      "execution_count": null,
      "outputs": [
        {
          "output_type": "execute_result",
          "data": {
            "text/plain": [
              "[<matplotlib.lines.Line2D at 0x7893e29f1a20>]"
            ]
          },
          "metadata": {},
          "execution_count": 15
        },
        {
          "output_type": "display_data",
          "data": {
            "text/plain": [
              "<Figure size 640x480 with 1 Axes>"
            ],
            "image/png": "[encoded data removed]"
          },
          "metadata": {}
        }
      ]
    },
    {
      "cell_type": "code",
      "source": [
        "plt.plot(0.1*noise)"
      ],
      "metadata": {
        "colab": {
          "base_uri": "https://localhost:8080/",
          "height": 448
        },
        "id": "JoLnr11iXzLA",
        "outputId": "79972c3d-f14a-4b74-c4e2-99ae7c1f8d44"
      },
      "execution_count": null,
      "outputs": [
        {
          "output_type": "execute_result",
          "data": {
            "text/plain": [
              "[<matplotlib.lines.Line2D at 0x7893e2b34250>]"
            ]
          },
          "metadata": {},
          "execution_count": 18
        },
        {
          "output_type": "display_data",
          "data": {
            "text/plain": [
              "<Figure size 640x480 with 1 Axes>"
            ],
            "image/png": "[encoded data removed]"
          },
          "metadata": {}
        }
      ]
    },
    {
      "cell_type": "markdown",
      "source": [
        "<h3> Q. what if I want smaller fluctuations?"
      ],
      "metadata": {
        "id": "mFSsK4tT6pNs"
      }
    },
    {
      "cell_type": "markdown",
      "source": [
        "(!) np.random.rand, and randn generate values between 0 and 1, adjust if needed"
      ],
      "metadata": {
        "id": "H_Rzh_HSiBoS"
      }
    },
    {
      "cell_type": "code",
      "source": [
        "np.random.rand(5)*100"
      ],
      "metadata": {
        "colab": {
          "base_uri": "https://localhost:8080/"
        },
        "id": "358n4dg1k7hu",
        "outputId": "1eb5fc43-028d-499d-c0dc-19d0644556ca"
      },
      "execution_count": null,
      "outputs": [
        {
          "output_type": "execute_result",
          "data": {
            "text/plain": [
              "array([79.38342652, 67.56264146, 76.721158  ,  8.66789999,  1.65493694])"
            ]
          },
          "metadata": {},
          "execution_count": 20
        }
      ]
    },
    {
      "cell_type": "markdown",
      "source": [
        "(!!) np.random.rand() generates values from a uniform distribution over the interval [0, 1]. The values are evenly distributed.\n",
        "\n",
        "np.random.randn() generates values from a normal (Gaussian) distribution with mean = 0 and standard deviation = 1."
      ],
      "metadata": {
        "id": "rcYOy517jLTQ"
      }
    },
    {
      "cell_type": "markdown",
      "source": [
        "#### Reproducability, how to get the same random state?"
      ],
      "metadata": {
        "id": "B1kvfimxGRn-"
      }
    },
    {
      "cell_type": "code",
      "source": [
        "np.random.seed(<your favorite number here>)"
      ],
      "metadata": {
        "id": "XmfgKyWnZ0Vn"
      },
      "execution_count": null,
      "outputs": []
    },
    {
      "cell_type": "markdown",
      "source": [
        "Pseudo-random numbers work by starting with a number (the seed), multiplying it by a large number, adding an offset, then taking modulo of that sum. The resulting number is then used as the seed to generate the next \"random\" number. When you set the seed (every time), it does the same thing every time, giving you the same sequence of numbers."
      ],
      "metadata": {
        "id": "4ZqNb9x9aaVO"
      }
    },
    {
      "cell_type": "markdown",
      "source": [
        "### Use python for data exploration"
      ],
      "metadata": {
        "id": "U-vsH0hzHIg1"
      }
    },
    {
      "cell_type": "markdown",
      "source": [
        "#### Dataset: type of personality ####\n",
        "\n",
        "\n",
        "1. **Age:** A continuous variable representing the age of the individual.\n",
        "\n",
        "2. **Gender:** A categorical variable indicating the gender of the individual. Possible values are 'Male' and 'Female'.\n",
        "\n",
        "3. **Education:** A binary variable, A value of 1 indicates the individual has at least a graduate-level education (or higher), and 0 indicates an undergraduate, high school level or Uneducated.\n",
        "\n",
        "4. **Interest:** A categorical variable representing the individual's primary area of interest.\n",
        "\n",
        "5. **Introversion Score:** A continuous variable ranging from 0 to 10, representing the individual's tendency toward introversion versus extraversion. Higher scores indicate a greater tendency toward extraversion.\n",
        "\n",
        "6. **Sensing Score:** A continuous variable ranging from 0 to 10, representing the individual's preference for sensing versus intuition. Higher scores indicate a preference for sensing.\n",
        "\n",
        "7. **Thinking Score:** A continuous variable ranging from 0 to 10, indicating the individual's preference for thinking versus feeling. Higher scores indicate a preference for thinking.\n",
        "\n",
        "8. **Judging Score:** A continuous variable ranging from 0 to 10, representing the individual's preference for judging versus perceiving. Higher scores indicate a preference for judging.\n",
        "\n",
        "9. **Personality:** Target that contains People Personality Type"
      ],
      "metadata": {
        "id": "v2yc8YU53kWc"
      }
    },
    {
      "cell_type": "markdown",
      "source": [
        "For this taks we'll take only Age, Education, Judging Score and JF Score\n",
        "\n",
        "What research quetions can you ask?"
      ],
      "metadata": {
        "id": "nwnw40MJAHRn"
      }
    },
    {
      "cell_type": "code",
      "source": [
        "loaded_data = np.load('personality_3col.npy')"
      ],
      "metadata": {
        "id": "dU5JpQih5A6r"
      },
      "execution_count": null,
      "outputs": []
    },
    {
      "cell_type": "code",
      "source": [
        "loaded_data.shape"
      ],
      "metadata": {
        "colab": {
          "base_uri": "https://localhost:8080/"
        },
        "id": "U6NAwKeKA6pK",
        "outputId": "086c3e82-88aa-4136-ec29-cef5ec17c0fb"
      },
      "execution_count": null,
      "outputs": [
        {
          "output_type": "execute_result",
          "data": {
            "text/plain": [
              "(128061, 4)"
            ]
          },
          "metadata": {},
          "execution_count": 27
        }
      ]
    },
    {
      "cell_type": "code",
      "source": [
        "loaded_data[:5,:]"
      ],
      "metadata": {
        "colab": {
          "base_uri": "https://localhost:8080/"
        },
        "id": "F00tTXt5Ri0A",
        "outputId": "9c900f8f-55f1-4471-f995-538a5f23055e"
      },
      "execution_count": null,
      "outputs": [
        {
          "output_type": "execute_result",
          "data": {
            "text/plain": [
              "array([[19.        ,  0.        ,  4.36027835, 13.31194698],\n",
              "       [27.        ,  0.        ,  4.22142107, 13.21301877],\n",
              "       [21.        ,  0.        ,  5.12731958, 14.83293517],\n",
              "       [28.        ,  0.        ,  5.98655026, 19.25317935],\n",
              "       [36.        ,  1.        ,  4.67721296, 14.21214959]])"
            ]
          },
          "metadata": {},
          "execution_count": 28
        }
      ]
    },
    {
      "cell_type": "code",
      "source": [
        "print(loaded_data.mean(axis=0))\n",
        "print(loaded_data.std(axis=0))\n",
        "\n",
        "print(loaded_data.min(axis=0))\n",
        "print(loaded_data.max(axis=0))"
      ],
      "metadata": {
        "colab": {
          "base_uri": "https://localhost:8080/"
        },
        "id": "xD3GTv8-dqDU",
        "outputId": "cec82b0b-05fe-4abe-bd36-b3828e754d3a"
      },
      "execution_count": null,
      "outputs": [
        {
          "output_type": "stream",
          "name": "stdout",
          "text": [
            "[26.34909145  0.41115562  4.57829273 14.44252   ]\n",
            "[4.90800324 0.49204337 1.39157618 3.61698127]\n",
            "[18.          0.          0.          0.09379219]\n",
            "[19. 27. 21. ... 26. 24. 27.]\n"
          ]
        }
      ]
    },
    {
      "cell_type": "code",
      "source": [
        "# create and plot the data's histogram\n",
        "import matplotlib.pyplot as plt\n",
        "\n",
        "data = loaded_data[:,0] #mat.flatten()\n",
        "plt.hist(data, bins=30, edgecolor='black')\n",
        "plt.title('Histogram of Age')\n",
        "plt.xlabel('Age')\n",
        "plt.ylabel('Frequency')\n",
        "plt.show()"
      ],
      "metadata": {
        "id": "gt7wwCVcHWPA",
        "colab": {
          "base_uri": "https://localhost:8080/",
          "height": 472
        },
        "outputId": "aa719be6-0a69-4e1b-d9b2-9a754eaa0357"
      },
      "execution_count": null,
      "outputs": [
        {
          "output_type": "display_data",
          "data": {
            "text/plain": [
              "<Figure size 640x480 with 1 Axes>"
            ],
            "image/png": "[encoded data removed]"
          },
          "metadata": {}
        }
      ]
    },
    {
      "cell_type": "code",
      "source": [
        "# create and plot the data's histogram\n",
        "import matplotlib.pyplot as plt\n",
        "\n",
        "data = loaded_data[:,2] #mat.flatten()\n",
        "plt.hist(data, bins=30, edgecolor='black')\n",
        "plt.title('Histogram of Judging Score')\n",
        "plt.xlabel('Value')\n",
        "plt.ylabel('Frequency')\n",
        "plt.show()"
      ],
      "metadata": {
        "colab": {
          "base_uri": "https://localhost:8080/",
          "height": 472
        },
        "id": "1J97Fb5yC9TE",
        "outputId": "6964a953-3eee-4187-e8f4-4d7f03251068"
      },
      "execution_count": null,
      "outputs": [
        {
          "output_type": "display_data",
          "data": {
            "text/plain": [
              "<Figure size 640x480 with 1 Axes>"
            ],
            "image/png": "[encoded data removed]"
          },
          "metadata": {}
        }
      ]
    },
    {
      "cell_type": "markdown",
      "source": [
        "I suspect there's a correlation between the first and the second Judge scores"
      ],
      "metadata": {
        "id": "3szOouiMJtA1"
      }
    },
    {
      "cell_type": "code",
      "source": [
        "array1_flat = loaded_data[:,2].flatten()\n",
        "array2_flat = loaded_data[:,3].flatten()\n",
        "\n",
        "# Compute correlation\n",
        "corr_matrix = np.corrcoef(array1_flat, array2_flat)\n",
        "corr_matrix"
      ],
      "metadata": {
        "colab": {
          "base_uri": "https://localhost:8080/"
        },
        "id": "inHMQQ8YKQjK",
        "outputId": "bab8306c-6f17-4fd4-b5d5-f61f24fbffdd"
      },
      "execution_count": null,
      "outputs": [
        {
          "output_type": "execute_result",
          "data": {
            "text/plain": [
              "array([[1.        , 0.96114801],\n",
              "       [0.96114801, 1.        ]])"
            ]
          },
          "metadata": {},
          "execution_count": 29
        }
      ]
    },
    {
      "cell_type": "code",
      "source": [
        "corr_matrix[0, 1]"
      ],
      "metadata": {
        "id": "XFmXHQsjM45w",
        "colab": {
          "base_uri": "https://localhost:8080/"
        },
        "outputId": "c18501e8-0f2e-449f-8b0b-d89cf4b40807"
      },
      "execution_count": null,
      "outputs": [
        {
          "output_type": "execute_result",
          "data": {
            "text/plain": [
              "0.9611480075850976"
            ]
          },
          "metadata": {},
          "execution_count": 30
        }
      ]
    },
    {
      "cell_type": "markdown",
      "source": [
        "#### Fit a linear regression line"
      ],
      "metadata": {
        "id": "H1j6r5ZXhjTh"
      }
    },
    {
      "cell_type": "code",
      "source": [
        "# Judging Score vs. JF Score\n",
        "x = loaded_data[:100, 2]\n",
        "y = loaded_data[:100, 3]"
      ],
      "metadata": {
        "id": "tYGKgmw_HUm8"
      },
      "execution_count": null,
      "outputs": []
    },
    {
      "cell_type": "code",
      "source": [
        "# Fit a regression line using np.polyfit\n",
        "coefficients = np.polyfit(x, y, 1)  # polynomial with degree=1\n",
        "slope, intercept = coefficients # unpack coefficients\n",
        "y_fit = slope * x + intercept # and use them to create the (predicted) y values\n",
        "\n",
        "# Plot results\n",
        "plt.scatter(x, y, label='Data points', color='blue')\n",
        "plt.plot(x, y_fit, color='red', label=f'Fit: y={slope:.2f}x + {intercept:.2f}')\n",
        "plt.title('Linear Regression Fit')\n",
        "plt.xlabel('x')\n",
        "plt.ylabel('y')\n",
        "plt.legend()\n",
        "plt.show()\n"
      ],
      "metadata": {
        "colab": {
          "base_uri": "https://localhost:8080/",
          "height": 472
        },
        "id": "eJve1sshECMA",
        "outputId": "756cbfea-2adb-4a62-b985-58fc45326ba5"
      },
      "execution_count": null,
      "outputs": [
        {
          "output_type": "display_data",
          "data": {
            "text/plain": [
              "<Figure size 640x480 with 1 Axes>"
            ],
            "image/png": "[encoded data removed]"
          },
          "metadata": {}
        }
      ]
    },
    {
      "cell_type": "markdown",
      "source": [
        "#### What if we know the relationship between variables is not linear?"
      ],
      "metadata": {
        "id": "8_Y7aP537ou6"
      }
    },
    {
      "cell_type": "code",
      "source": [
        "y = np.cos(x) + 0.3*np.random.rand(100)"
      ],
      "metadata": {
        "id": "QrjUzti3lTKA"
      },
      "execution_count": null,
      "outputs": []
    },
    {
      "cell_type": "code",
      "source": [
        "coefficients = np.polyfit(x, y, 3)  # choose polynomial with degree>1\n",
        "coefficients"
      ],
      "metadata": {
        "colab": {
          "base_uri": "https://localhost:8080/"
        },
        "id": "ZYtAzNzTlc38",
        "outputId": "f1f5b4c8-7222-4294-bf01-66f019e1fe59"
      },
      "execution_count": null,
      "outputs": [
        {
          "output_type": "execute_result",
          "data": {
            "text/plain": [
              "array([-0.07813104,  1.09933957, -4.33919537,  4.37040724])"
            ]
          },
          "metadata": {},
          "execution_count": 42
        }
      ]
    },
    {
      "cell_type": "code",
      "source": [
        "# Create a polynomial object from a list of coefficients\n",
        "polynomial = np.poly1d(coefficients)\n",
        "# Upsample x to get a smooth polynomial curve\n",
        "x_smooth = np.linspace(min(x), max(x), 500) # usefull function\n",
        "y_fit = polynomial(x_smooth)\n",
        "\n",
        "# Plot the original data points and the polynomial fit\n",
        "plt.scatter(x, y, label='Data points', color='blue')\n",
        "plt.plot(x_smooth, y_fit, color='red', label=f'Fit: 3rd-degree polynomial')\n",
        "plt.title('3rd-degree Polynomial Fit')\n",
        "plt.xlabel('x')\n",
        "plt.ylabel('y')\n",
        "plt.legend()\n",
        "plt.show()"
      ],
      "metadata": {
        "colab": {
          "base_uri": "https://localhost:8080/",
          "height": 472
        },
        "id": "8mK4rwunltpG",
        "outputId": "a3be94a7-ed73-4f17-d2f3-9b80631481ca"
      },
      "execution_count": null,
      "outputs": [
        {
          "output_type": "display_data",
          "data": {
            "text/plain": [
              "<Figure size 640x480 with 1 Axes>"
            ],
            "image/png": "[encoded data removed]"
          },
          "metadata": {}
        }
      ]
    },
    {
      "cell_type": "code",
      "source": [],
      "metadata": {
        "id": "pYTulIZNG9Xa"
      },
      "execution_count": null,
      "outputs": []
    }
  ]
}